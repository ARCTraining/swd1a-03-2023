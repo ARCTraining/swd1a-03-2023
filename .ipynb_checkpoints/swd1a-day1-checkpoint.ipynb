{
 "cells": [
  {
   "cell_type": "markdown",
   "id": "ade4ca5a-ce13-443d-bec5-dde9d469d735",
   "metadata": {},
   "source": [
    "# SWD1a Day 1 notebook"
   ]
  },
  {
   "cell_type": "code",
   "execution_count": 2,
   "id": "3353ed8a-a5ce-4395-868b-35a461c7fe42",
   "metadata": {},
   "outputs": [
    {
     "name": "stdout",
     "output_type": "stream",
     "text": [
      "Hello world!\n"
     ]
    }
   ],
   "source": [
    "print(\"Hello world!\")"
   ]
  },
  {
   "cell_type": "code",
   "execution_count": 1,
   "id": "dff99c0f-84b1-401d-9562-e3cd9d0a9025",
   "metadata": {},
   "outputs": [],
   "source": [
    "text = \"Data Carpentry\"\n",
    "number = 42\n",
    "pi_value = 3.1415"
   ]
  },
  {
   "cell_type": "code",
   "execution_count": 2,
   "id": "69c984e5-1030-4359-ad62-ce926a8e1f3f",
   "metadata": {},
   "outputs": [
    {
     "name": "stdout",
     "output_type": "stream",
     "text": [
      "Data Carpentry\n"
     ]
    }
   ],
   "source": [
    "print(text)"
   ]
  },
  {
   "cell_type": "code",
   "execution_count": 4,
   "id": "465d7e8f-e6b0-414d-8fd2-1c817e1dbd14",
   "metadata": {},
   "outputs": [
    {
     "name": "stdout",
     "output_type": "stream",
     "text": [
      "<class 'str'>\n",
      "<class 'int'>\n",
      "<class 'float'>\n"
     ]
    }
   ],
   "source": [
    "print(type(text))\n",
    "print(type(number))\n",
    "print(type(pi_value))"
   ]
  },
  {
   "cell_type": "code",
   "execution_count": 5,
   "id": "eceb56ca-245b-4666-8c6c-5b73abf8613e",
   "metadata": {},
   "outputs": [
    {
     "name": "stdout",
     "output_type": "stream",
     "text": [
      "<class 'str'> <class 'int'> <class 'float'>\n"
     ]
    }
   ],
   "source": [
    "print(type(text), type(number), type(pi_value))"
   ]
  },
  {
   "cell_type": "code",
   "execution_count": 6,
   "id": "699cc16f-3554-475a-93e9-a5164f16a17c",
   "metadata": {},
   "outputs": [
    {
     "ename": "TypeError",
     "evalue": "can only concatenate str (not \"int\") to str",
     "output_type": "error",
     "traceback": [
      "\u001b[1;31m---------------------------------------------------------------------------\u001b[0m",
      "\u001b[1;31mTypeError\u001b[0m                                 Traceback (most recent call last)",
      "Cell \u001b[1;32mIn[6], line 1\u001b[0m\n\u001b[1;32m----> 1\u001b[0m \u001b[43mtext\u001b[49m\u001b[43m \u001b[49m\u001b[38;5;241;43m+\u001b[39;49m\u001b[43m \u001b[49m\u001b[43mnumber\u001b[49m\n",
      "\u001b[1;31mTypeError\u001b[0m: can only concatenate str (not \"int\") to str"
     ]
    }
   ],
   "source": [
    "text + number"
   ]
  },
  {
   "cell_type": "code",
   "execution_count": 7,
   "id": "996095e3-e5a2-41a1-9346-2bc31e14dab1",
   "metadata": {},
   "outputs": [
    {
     "data": {
      "text/plain": [
       "13"
      ]
     },
     "execution_count": 7,
     "metadata": {},
     "output_type": "execute_result"
    }
   ],
   "source": [
    "7 + 6"
   ]
  },
  {
   "cell_type": "code",
   "execution_count": 8,
   "id": "63e2d05c-5b35-4582-8258-0203dbcbb3a0",
   "metadata": {},
   "outputs": [
    {
     "data": {
      "text/plain": [
       "'foobar'"
      ]
     },
     "execution_count": 8,
     "metadata": {},
     "output_type": "execute_result"
    }
   ],
   "source": [
    "\"foo\" + \"bar\""
   ]
  },
  {
   "cell_type": "code",
   "execution_count": 9,
   "id": "90735a89-358c-4152-8230-afc75354d4a5",
   "metadata": {},
   "outputs": [
    {
     "data": {
      "text/plain": [
       "45.1415"
      ]
     },
     "execution_count": 9,
     "metadata": {},
     "output_type": "execute_result"
    }
   ],
   "source": [
    "number + pi_value"
   ]
  },
  {
   "cell_type": "code",
   "execution_count": 10,
   "id": "b625c2ce-e536-407a-941d-2042240b1dda",
   "metadata": {},
   "outputs": [
    {
     "data": {
      "text/plain": [
       "bool"
      ]
     },
     "execution_count": 10,
     "metadata": {},
     "output_type": "execute_result"
    }
   ],
   "source": [
    "type(True)"
   ]
  },
  {
   "cell_type": "code",
   "execution_count": 11,
   "id": "5f98de9e-322e-4272-a74a-598fb3e08c28",
   "metadata": {},
   "outputs": [
    {
     "ename": "SyntaxError",
     "evalue": "cannot assign to True (2227483689.py, line 1)",
     "output_type": "error",
     "traceback": [
      "\u001b[1;36m  Cell \u001b[1;32mIn[11], line 1\u001b[1;36m\u001b[0m\n\u001b[1;33m    True = 10\u001b[0m\n\u001b[1;37m    ^\u001b[0m\n\u001b[1;31mSyntaxError\u001b[0m\u001b[1;31m:\u001b[0m cannot assign to True\n"
     ]
    }
   ],
   "source": [
    "True = 10"
   ]
  },
  {
   "cell_type": "code",
   "execution_count": 12,
   "id": "77960fbb-03b0-4b31-bde4-b0818e65926a",
   "metadata": {},
   "outputs": [],
   "source": [
    "pi = 100"
   ]
  },
  {
   "cell_type": "code",
   "execution_count": 15,
   "id": "1cffa564-e576-4062-9a95-156951296f5a",
   "metadata": {},
   "outputs": [],
   "source": [
    "pi = pi + 1"
   ]
  },
  {
   "cell_type": "code",
   "execution_count": 16,
   "id": "f8a8aeaf-30c7-4595-a0d8-9f80d6a2c23c",
   "metadata": {},
   "outputs": [
    {
     "name": "stdout",
     "output_type": "stream",
     "text": [
      "101\n"
     ]
    }
   ],
   "source": [
    "print(pi)"
   ]
  },
  {
   "cell_type": "code",
   "execution_count": 17,
   "id": "a63301aa-b0f6-4d5a-8f47-a300dd269066",
   "metadata": {},
   "outputs": [],
   "source": [
    "pi += 1"
   ]
  },
  {
   "cell_type": "code",
   "execution_count": 18,
   "id": "54864b11-7e3b-4fe9-8185-d29157150375",
   "metadata": {},
   "outputs": [
    {
     "name": "stdout",
     "output_type": "stream",
     "text": [
      "102\n"
     ]
    }
   ],
   "source": [
    "print(pi)"
   ]
  },
  {
   "cell_type": "code",
   "execution_count": 19,
   "id": "5106037a-1e9c-40fd-a33a-49d0b41bc1c2",
   "metadata": {},
   "outputs": [],
   "source": [
    "pi = pi_value"
   ]
  },
  {
   "cell_type": "code",
   "execution_count": 20,
   "id": "eed88b04-3c61-4db8-a0d7-a2026b5a8eb5",
   "metadata": {},
   "outputs": [
    {
     "name": "stdout",
     "output_type": "stream",
     "text": [
      "3.1415\n"
     ]
    }
   ],
   "source": [
    "print(pi)"
   ]
  },
  {
   "cell_type": "code",
   "execution_count": 21,
   "id": "3fd1fc4b-a74d-494b-ad5d-43016d8dde55",
   "metadata": {},
   "outputs": [
    {
     "name": "stdout",
     "output_type": "stream",
     "text": [
      "3.1415\n"
     ]
    }
   ],
   "source": [
    "print(pi_value)"
   ]
  },
  {
   "cell_type": "code",
   "execution_count": 22,
   "id": "616af2a6-9dc3-4925-8009-bbe0548c1223",
   "metadata": {},
   "outputs": [
    {
     "data": {
      "text/plain": [
       "True"
      ]
     },
     "execution_count": 22,
     "metadata": {},
     "output_type": "execute_result"
    }
   ],
   "source": [
    "pi == pi_value"
   ]
  },
  {
   "cell_type": "code",
   "execution_count": 23,
   "id": "a9afc1a9-1246-473d-9952-6da86d77fdf1",
   "metadata": {},
   "outputs": [
    {
     "data": {
      "text/plain": [
       "False"
      ]
     },
     "execution_count": 23,
     "metadata": {},
     "output_type": "execute_result"
    }
   ],
   "source": [
    "# test for inequality\n",
    "# does pi not equal pi_value\n",
    "pi != pi_value"
   ]
  },
  {
   "cell_type": "code",
   "execution_count": 24,
   "id": "da7566c0-c9b1-4d4e-be6e-0506b3eb90ca",
   "metadata": {},
   "outputs": [
    {
     "data": {
      "text/plain": [
       "False"
      ]
     },
     "execution_count": 24,
     "metadata": {},
     "output_type": "execute_result"
    }
   ],
   "source": [
    "pi >= 10"
   ]
  },
  {
   "cell_type": "code",
   "execution_count": 25,
   "id": "d2cd4dbb-465e-4b53-8d65-4495265515d9",
   "metadata": {},
   "outputs": [
    {
     "data": {
      "text/plain": [
       "True"
      ]
     },
     "execution_count": 25,
     "metadata": {},
     "output_type": "execute_result"
    }
   ],
   "source": [
    "pi < 10"
   ]
  },
  {
   "cell_type": "code",
   "execution_count": 26,
   "id": "e7f3842e-a5fe-4d9a-a5d0-8e1b7c5f305b",
   "metadata": {},
   "outputs": [
    {
     "data": {
      "text/plain": [
       "56"
      ]
     },
     "execution_count": 26,
     "metadata": {},
     "output_type": "execute_result"
    }
   ],
   "source": [
    "# multiplication\n",
    "\n",
    "7 * 8"
   ]
  },
  {
   "cell_type": "code",
   "execution_count": 27,
   "id": "79d84fd9-1345-4acf-a00f-c9aa7769bd74",
   "metadata": {},
   "outputs": [
    {
     "data": {
      "text/plain": [
       "1024"
      ]
     },
     "execution_count": 27,
     "metadata": {},
     "output_type": "execute_result"
    }
   ],
   "source": [
    "# exponent\n",
    "\n",
    "2 **10"
   ]
  },
  {
   "cell_type": "code",
   "execution_count": 28,
   "id": "5f2b958e-f5d2-4ddc-9155-7b6e996e0c66",
   "metadata": {},
   "outputs": [
    {
     "data": {
      "text/plain": [
       "3"
      ]
     },
     "execution_count": 28,
     "metadata": {},
     "output_type": "execute_result"
    }
   ],
   "source": [
    "# modulo\n",
    "\n",
    "13 % 5"
   ]
  },
  {
   "cell_type": "code",
   "execution_count": 29,
   "id": "2e0c2f59-fa6f-44e2-a499-7318eab9ebce",
   "metadata": {},
   "outputs": [
    {
     "data": {
      "text/plain": [
       "10.0"
      ]
     },
     "execution_count": 29,
     "metadata": {},
     "output_type": "execute_result"
    }
   ],
   "source": [
    "100 / 10"
   ]
  },
  {
   "cell_type": "code",
   "execution_count": 30,
   "id": "d4b51d2c-0c0f-45c3-9f23-ec83d7e3f847",
   "metadata": {},
   "outputs": [
    {
     "data": {
      "text/plain": [
       "3.5"
      ]
     },
     "execution_count": 30,
     "metadata": {},
     "output_type": "execute_result"
    }
   ],
   "source": [
    "1.5 + 2"
   ]
  },
  {
   "cell_type": "code",
   "execution_count": 32,
   "id": "0136bd8e-fb4b-4f36-b647-ecdef4dfc8c3",
   "metadata": {},
   "outputs": [
    {
     "data": {
      "text/plain": [
       "False"
      ]
     },
     "execution_count": 32,
     "metadata": {},
     "output_type": "execute_result"
    }
   ],
   "source": [
    "(10 > 1) and (2 != 2)"
   ]
  },
  {
   "cell_type": "code",
   "execution_count": 33,
   "id": "5d52c7d3-6f3b-45c0-9b21-270eeb865b47",
   "metadata": {},
   "outputs": [
    {
     "data": {
      "text/plain": [
       "True"
      ]
     },
     "execution_count": 33,
     "metadata": {},
     "output_type": "execute_result"
    }
   ],
   "source": [
    "(10 > 1) or (2 != 2)"
   ]
  },
  {
   "cell_type": "code",
   "execution_count": 34,
   "id": "ea611995-c4c4-44cf-8917-6efd8f61b5c3",
   "metadata": {},
   "outputs": [
    {
     "ename": "TypeError",
     "evalue": "can only concatenate str (not \"int\") to str",
     "output_type": "error",
     "traceback": [
      "\u001b[1;31m---------------------------------------------------------------------------\u001b[0m",
      "\u001b[1;31mTypeError\u001b[0m                                 Traceback (most recent call last)",
      "Cell \u001b[1;32mIn[34], line 1\u001b[0m\n\u001b[1;32m----> 1\u001b[0m \u001b[38;5;124;43m\"\u001b[39;49m\u001b[38;5;124;43mfoo\u001b[39;49m\u001b[38;5;124;43m\"\u001b[39;49m\u001b[43m \u001b[49m\u001b[38;5;241;43m+\u001b[39;49m\u001b[43m \u001b[49m\u001b[38;5;241;43m1\u001b[39;49m\n",
      "\u001b[1;31mTypeError\u001b[0m: can only concatenate str (not \"int\") to str"
     ]
    }
   ],
   "source": [
    "\"foo\" + 1"
   ]
  },
  {
   "cell_type": "code",
   "execution_count": 35,
   "id": "50501c92-d5be-4770-a082-4c9bfdd2346a",
   "metadata": {},
   "outputs": [
    {
     "data": {
      "text/plain": [
       "'foofoofoofoofoofoofoofoofoofoo'"
      ]
     },
     "execution_count": 35,
     "metadata": {},
     "output_type": "execute_result"
    }
   ],
   "source": [
    "\"foo\" * 10"
   ]
  },
  {
   "cell_type": "code",
   "execution_count": 36,
   "id": "9b327abd-9c03-4f3c-80f5-ef81b9756e62",
   "metadata": {},
   "outputs": [
    {
     "ename": "TypeError",
     "evalue": "unsupported operand type(s) for -: 'str' and 'int'",
     "output_type": "error",
     "traceback": [
      "\u001b[1;31m---------------------------------------------------------------------------\u001b[0m",
      "\u001b[1;31mTypeError\u001b[0m                                 Traceback (most recent call last)",
      "Cell \u001b[1;32mIn[36], line 1\u001b[0m\n\u001b[1;32m----> 1\u001b[0m \u001b[38;5;124;43m\"\u001b[39;49m\u001b[38;5;124;43mfoo\u001b[39;49m\u001b[38;5;124;43m\"\u001b[39;49m\u001b[43m \u001b[49m\u001b[38;5;241;43m-\u001b[39;49m\u001b[43m \u001b[49m\u001b[38;5;241;43m1\u001b[39;49m\n",
      "\u001b[1;31mTypeError\u001b[0m: unsupported operand type(s) for -: 'str' and 'int'"
     ]
    }
   ],
   "source": [
    "\"foo\" - 1"
   ]
  },
  {
   "cell_type": "code",
   "execution_count": 37,
   "id": "8c0e63df-c7c3-4b9a-a544-7e49edd2b915",
   "metadata": {},
   "outputs": [
    {
     "data": {
      "text/plain": [
       "False"
      ]
     },
     "execution_count": 37,
     "metadata": {},
     "output_type": "execute_result"
    }
   ],
   "source": [
    "\"foo\" == \"Foo\""
   ]
  },
  {
   "cell_type": "code",
   "execution_count": 38,
   "id": "ae6e55c2-294d-4f1c-b4f1-c67816cffa3b",
   "metadata": {},
   "outputs": [
    {
     "data": {
      "text/plain": [
       "False"
      ]
     },
     "execution_count": 38,
     "metadata": {},
     "output_type": "execute_result"
    }
   ],
   "source": [
    "\" foo\" == \"foo\""
   ]
  },
  {
   "cell_type": "markdown",
   "id": "f8e658c3-6cb1-46c5-84b2-70edd454bf05",
   "metadata": {},
   "source": [
    "## Sequences: Lists and Tuples"
   ]
  },
  {
   "cell_type": "code",
   "execution_count": 44,
   "id": "7058986d-21ea-4b08-a719-3b253eaeaf57",
   "metadata": {},
   "outputs": [],
   "source": [
    "#         0 ,1   ,2 \n",
    "numbers = [1, \"2\", 3.0]"
   ]
  },
  {
   "cell_type": "code",
   "execution_count": 45,
   "id": "a823b453-1754-428a-83b7-7e9484d55833",
   "metadata": {},
   "outputs": [
    {
     "data": {
      "text/plain": [
       "list"
      ]
     },
     "execution_count": 45,
     "metadata": {},
     "output_type": "execute_result"
    }
   ],
   "source": [
    "type(numbers)"
   ]
  },
  {
   "cell_type": "code",
   "execution_count": 46,
   "id": "ea6746af-b4fb-40d4-88ac-33cec012da3e",
   "metadata": {},
   "outputs": [
    {
     "data": {
      "text/plain": [
       "1"
      ]
     },
     "execution_count": 46,
     "metadata": {},
     "output_type": "execute_result"
    }
   ],
   "source": [
    "numbers[0]"
   ]
  },
  {
   "cell_type": "code",
   "execution_count": 47,
   "id": "cee552a7-21b2-4086-b0d5-b1a03328b5bb",
   "metadata": {},
   "outputs": [
    {
     "name": "stdout",
     "output_type": "stream",
     "text": [
      "1\n",
      "2\n",
      "3.0\n"
     ]
    }
   ],
   "source": [
    "for num in numbers:\n",
    "    print(num)"
   ]
  },
  {
   "cell_type": "code",
   "execution_count": 48,
   "id": "63cb1b1d-b14f-4af7-ba45-91c45723bb3e",
   "metadata": {},
   "outputs": [
    {
     "name": "stdout",
     "output_type": "stream",
     "text": [
      "[1, '2', 3.0]\n"
     ]
    }
   ],
   "source": [
    "print(numbers)"
   ]
  },
  {
   "cell_type": "code",
   "execution_count": 49,
   "id": "aa0ae6ca-c588-4326-9d50-22e8e61c68ec",
   "metadata": {},
   "outputs": [],
   "source": [
    "numbers[0] = 100"
   ]
  },
  {
   "cell_type": "code",
   "execution_count": 50,
   "id": "aa63cbcb-6de2-4162-93fa-2bbf40325468",
   "metadata": {},
   "outputs": [
    {
     "name": "stdout",
     "output_type": "stream",
     "text": [
      "[100, '2', 3.0]\n"
     ]
    }
   ],
   "source": [
    "print(numbers)"
   ]
  },
  {
   "cell_type": "code",
   "execution_count": 51,
   "id": "efe5f7a3-8efc-47a5-b007-3f17a71616e0",
   "metadata": {},
   "outputs": [],
   "source": [
    "numbers.append(10)"
   ]
  },
  {
   "cell_type": "code",
   "execution_count": 52,
   "id": "52a07452-9af1-4d45-966b-0e4d9551cf0a",
   "metadata": {},
   "outputs": [
    {
     "name": "stdout",
     "output_type": "stream",
     "text": [
      "[100, '2', 3.0, 10]\n"
     ]
    }
   ],
   "source": [
    "print(numbers)"
   ]
  },
  {
   "cell_type": "code",
   "execution_count": 53,
   "id": "36c75d3b-f1dc-4466-b91e-bef9dee450f8",
   "metadata": {},
   "outputs": [
    {
     "data": {
      "text/plain": [
       "10"
      ]
     },
     "execution_count": 53,
     "metadata": {},
     "output_type": "execute_result"
    }
   ],
   "source": [
    "numbers.pop()"
   ]
  },
  {
   "cell_type": "code",
   "execution_count": 54,
   "id": "f12aca8d-22e5-49c2-8285-93eb5722a907",
   "metadata": {},
   "outputs": [
    {
     "name": "stdout",
     "output_type": "stream",
     "text": [
      "[100, '2', 3.0]\n"
     ]
    }
   ],
   "source": [
    "print(numbers)"
   ]
  },
  {
   "cell_type": "code",
   "execution_count": 56,
   "id": "9a81a5a2-3993-4ec7-aa78-443444a87167",
   "metadata": {},
   "outputs": [
    {
     "data": {
      "text/plain": [
       "[100, '2', 3.0, 0, 1, 2, 3, 4, 5]"
      ]
     },
     "execution_count": 56,
     "metadata": {},
     "output_type": "execute_result"
    }
   ],
   "source": [
    "numbers + [0,1,2,3,4,5]"
   ]
  },
  {
   "cell_type": "code",
   "execution_count": 57,
   "id": "16696294-cd27-4539-9d7b-81324b042357",
   "metadata": {},
   "outputs": [
    {
     "name": "stdout",
     "output_type": "stream",
     "text": [
      "[100, '2', 3.0]\n"
     ]
    }
   ],
   "source": [
    "print(numbers)"
   ]
  },
  {
   "cell_type": "code",
   "execution_count": 64,
   "id": "85696e89-2c71-420d-abe6-fbd38ed2f8d5",
   "metadata": {},
   "outputs": [
    {
     "ename": "TypeError",
     "evalue": "list.append() takes exactly one argument (2 given)",
     "output_type": "error",
     "traceback": [
      "\u001b[1;31m---------------------------------------------------------------------------\u001b[0m",
      "\u001b[1;31mTypeError\u001b[0m                                 Traceback (most recent call last)",
      "Cell \u001b[1;32mIn[64], line 1\u001b[0m\n\u001b[1;32m----> 1\u001b[0m \u001b[43mnumbers\u001b[49m\u001b[38;5;241;43m.\u001b[39;49m\u001b[43mappend\u001b[49m\u001b[43m(\u001b[49m\u001b[38;5;241;43m0\u001b[39;49m\u001b[43m,\u001b[49m\u001b[38;5;241;43m2\u001b[39;49m\u001b[43m)\u001b[49m\n",
      "\u001b[1;31mTypeError\u001b[0m: list.append() takes exactly one argument (2 given)"
     ]
    }
   ],
   "source": [
    "numbers.append(0,2)"
   ]
  },
  {
   "cell_type": "code",
   "execution_count": 59,
   "id": "2f1e0495-e1f8-48dc-b7f4-b1486193af68",
   "metadata": {},
   "outputs": [],
   "source": [
    "numbers.append([0,2,])"
   ]
  },
  {
   "cell_type": "code",
   "execution_count": 60,
   "id": "d7820b05-2a8b-4206-814d-3a9694c8006a",
   "metadata": {},
   "outputs": [
    {
     "name": "stdout",
     "output_type": "stream",
     "text": [
      "[100, '2', 3.0, [0, 2]]\n"
     ]
    }
   ],
   "source": [
    "print(numbers)"
   ]
  },
  {
   "cell_type": "code",
   "execution_count": 62,
   "id": "02a597df-9dca-4a3c-b89f-4bb22e83ea9c",
   "metadata": {},
   "outputs": [],
   "source": [
    "# equivalent to numbers = numbers + [0,2]\n",
    "numbers += [0,2]"
   ]
  },
  {
   "cell_type": "code",
   "execution_count": 63,
   "id": "f6c31ffc-5458-4aef-869c-6e8c7cafb94a",
   "metadata": {},
   "outputs": [
    {
     "name": "stdout",
     "output_type": "stream",
     "text": [
      "[100, '2', 3.0, [0, 2], 0, 2]\n"
     ]
    }
   ],
   "source": [
    "print(numbers)"
   ]
  },
  {
   "cell_type": "code",
   "execution_count": 67,
   "id": "fadb9556-f8c1-405d-9d11-1e6910550de1",
   "metadata": {},
   "outputs": [
    {
     "data": {
      "text/plain": [
       "[100, '2', 3.0]"
      ]
     },
     "execution_count": 67,
     "metadata": {},
     "output_type": "execute_result"
    }
   ],
   "source": [
    "numbers[0:3]"
   ]
  },
  {
   "cell_type": "code",
   "execution_count": 69,
   "id": "b5bfddee-c953-4117-a98c-46c140dacb61",
   "metadata": {},
   "outputs": [
    {
     "data": {
      "text/plain": [
       "6"
      ]
     },
     "execution_count": 69,
     "metadata": {},
     "output_type": "execute_result"
    }
   ],
   "source": [
    "len(numbers)"
   ]
  },
  {
   "cell_type": "code",
   "execution_count": 71,
   "id": "6455e879-1a2a-45d8-8389-fc4bbdb2feb0",
   "metadata": {},
   "outputs": [
    {
     "data": {
      "text/plain": [
       "[]"
      ]
     },
     "execution_count": 71,
     "metadata": {},
     "output_type": "execute_result"
    }
   ],
   "source": [
    "numbers[0:len(numbers) - 2]"
   ]
  },
  {
   "cell_type": "code",
   "execution_count": 72,
   "id": "8217f567-cea5-455f-8f92-76438f291fdb",
   "metadata": {},
   "outputs": [
    {
     "ename": "IndexError",
     "evalue": "list index out of range",
     "output_type": "error",
     "traceback": [
      "\u001b[1;31m---------------------------------------------------------------------------\u001b[0m",
      "\u001b[1;31mIndexError\u001b[0m                                Traceback (most recent call last)",
      "Cell \u001b[1;32mIn[72], line 1\u001b[0m\n\u001b[1;32m----> 1\u001b[0m \u001b[43mnumbers\u001b[49m\u001b[43m[\u001b[49m\u001b[38;5;241;43m-\u001b[39;49m\u001b[38;5;241;43m20\u001b[39;49m\u001b[43m]\u001b[49m\n",
      "\u001b[1;31mIndexError\u001b[0m: list index out of range"
     ]
    }
   ],
   "source": [
    "numbers[-20]"
   ]
  },
  {
   "cell_type": "code",
   "execution_count": 73,
   "id": "6c7e7a24-4d78-4de9-a207-55b49b1afb70",
   "metadata": {},
   "outputs": [],
   "source": [
    "a_tuple= (1,2,3)"
   ]
  },
  {
   "cell_type": "code",
   "execution_count": 74,
   "id": "937623ee-8deb-47a8-83f4-721eaf35f001",
   "metadata": {},
   "outputs": [],
   "source": [
    "b_tuple = (1, \"2\", 3)"
   ]
  },
  {
   "cell_type": "code",
   "execution_count": 76,
   "id": "bbf2f20b-f81a-4f25-9ae0-1f8f8b1dfa1b",
   "metadata": {},
   "outputs": [
    {
     "name": "stdout",
     "output_type": "stream",
     "text": [
      "1\n",
      "2\n",
      "3\n"
     ]
    }
   ],
   "source": [
    "for num in a_tuple:\n",
    "    print(num)"
   ]
  },
  {
   "cell_type": "code",
   "execution_count": 77,
   "id": "0d992874-1054-4d52-9e80-36eb7e5632c0",
   "metadata": {},
   "outputs": [
    {
     "data": {
      "text/plain": [
       "1"
      ]
     },
     "execution_count": 77,
     "metadata": {},
     "output_type": "execute_result"
    }
   ],
   "source": [
    "a_tuple[0]"
   ]
  },
  {
   "cell_type": "code",
   "execution_count": 78,
   "id": "3b6f98bb-c23e-49d7-9d89-257780f82369",
   "metadata": {},
   "outputs": [
    {
     "ename": "TypeError",
     "evalue": "'tuple' object does not support item assignment",
     "output_type": "error",
     "traceback": [
      "\u001b[1;31m---------------------------------------------------------------------------\u001b[0m",
      "\u001b[1;31mTypeError\u001b[0m                                 Traceback (most recent call last)",
      "Cell \u001b[1;32mIn[78], line 1\u001b[0m\n\u001b[1;32m----> 1\u001b[0m \u001b[43ma_tuple\u001b[49m\u001b[43m[\u001b[49m\u001b[38;5;241;43m0\u001b[39;49m\u001b[43m]\u001b[49m \u001b[38;5;241m=\u001b[39m \u001b[38;5;241m10\u001b[39m\n",
      "\u001b[1;31mTypeError\u001b[0m: 'tuple' object does not support item assignment"
     ]
    }
   ],
   "source": [
    "a_tuple[0] = 10"
   ]
  },
  {
   "cell_type": "markdown",
   "id": "7a94c656-6898-43a7-a175-5306e95cb9c8",
   "metadata": {},
   "source": [
    "### Dictionaries"
   ]
  },
  {
   "cell_type": "code",
   "execution_count": 82,
   "id": "507f7ab5-5260-48dc-81ea-262a4e8b0d06",
   "metadata": {},
   "outputs": [],
   "source": [
    "translation = {\"one\" : \"first\", \"two\": \"second\", 0: \"zero\"}"
   ]
  },
  {
   "cell_type": "code",
   "execution_count": 83,
   "id": "ffe9e9cd-c85f-4e0a-9212-ad94301759fa",
   "metadata": {},
   "outputs": [
    {
     "data": {
      "text/plain": [
       "'zero'"
      ]
     },
     "execution_count": 83,
     "metadata": {},
     "output_type": "execute_result"
    }
   ],
   "source": [
    "translation[0]"
   ]
  },
  {
   "cell_type": "code",
   "execution_count": 81,
   "id": "8e890766-1b19-4161-bcd9-a2ed14e04638",
   "metadata": {},
   "outputs": [
    {
     "data": {
      "text/plain": [
       "'first'"
      ]
     },
     "execution_count": 81,
     "metadata": {},
     "output_type": "execute_result"
    }
   ],
   "source": [
    "translation[\"one\"]"
   ]
  },
  {
   "cell_type": "code",
   "execution_count": 85,
   "id": "21d854a5-adb8-4698-bedd-faef167f8dd5",
   "metadata": {},
   "outputs": [],
   "source": [
    "translation[\"three\"] = \"third\""
   ]
  },
  {
   "cell_type": "code",
   "execution_count": 86,
   "id": "a6f4320c-5616-4b12-b9c0-f2795fc4b885",
   "metadata": {},
   "outputs": [
    {
     "data": {
      "text/plain": [
       "{'one': 'first', 'two': 'second', 0: 'zero', 'three': 'third'}"
      ]
     },
     "execution_count": 86,
     "metadata": {},
     "output_type": "execute_result"
    }
   ],
   "source": [
    "translation"
   ]
  },
  {
   "cell_type": "code",
   "execution_count": 88,
   "id": "d5126ab7-7230-4587-9cda-3403c6e14434",
   "metadata": {},
   "outputs": [
    {
     "name": "stdout",
     "output_type": "stream",
     "text": [
      "one\n",
      "two\n",
      "0\n",
      "three\n"
     ]
    }
   ],
   "source": [
    "# just gets the keys\n",
    "for num in translation:\n",
    "    print(num)"
   ]
  },
  {
   "cell_type": "code",
   "execution_count": 95,
   "id": "1a98a7c6-cbf2-43f8-9105-58e402474718",
   "metadata": {},
   "outputs": [
    {
     "name": "stdout",
     "output_type": "stream",
     "text": [
      "one --> first\n",
      "two --> second\n",
      "0 --> zero\n",
      "three --> third\n"
     ]
    }
   ],
   "source": [
    "for key,value in translation.items():\n",
    "    print(key, \"-->\", value)"
   ]
  },
  {
   "cell_type": "code",
   "execution_count": 90,
   "id": "675d24f9-5465-42eb-a74a-a6588e8bc624",
   "metadata": {},
   "outputs": [],
   "source": [
    "foo, bar = 1, 2"
   ]
  },
  {
   "cell_type": "code",
   "execution_count": 93,
   "id": "195752bb-d5b5-4ee7-a9c9-5a0dcef17194",
   "metadata": {},
   "outputs": [
    {
     "name": "stdout",
     "output_type": "stream",
     "text": [
      "1\n",
      "2\n"
     ]
    }
   ],
   "source": [
    "print(foo)\n",
    "print(bar)"
   ]
  },
  {
   "cell_type": "code",
   "execution_count": 96,
   "id": "0226f38d-f3f1-4647-93f6-c52d25063108",
   "metadata": {},
   "outputs": [],
   "source": [
    "test_tup = (0, [0,2])"
   ]
  },
  {
   "cell_type": "code",
   "execution_count": 98,
   "id": "abed5a59-bebc-4644-a040-7ae7f8a094d1",
   "metadata": {},
   "outputs": [
    {
     "ename": "TypeError",
     "evalue": "'tuple' object does not support item assignment",
     "output_type": "error",
     "traceback": [
      "\u001b[1;31m---------------------------------------------------------------------------\u001b[0m",
      "\u001b[1;31mTypeError\u001b[0m                                 Traceback (most recent call last)",
      "Cell \u001b[1;32mIn[98], line 1\u001b[0m\n\u001b[1;32m----> 1\u001b[0m \u001b[43mtest_tup\u001b[49m\u001b[43m[\u001b[49m\u001b[38;5;241;43m0\u001b[39;49m\u001b[43m]\u001b[49m \u001b[38;5;241m=\u001b[39m \u001b[38;5;241m1\u001b[39m\n",
      "\u001b[1;31mTypeError\u001b[0m: 'tuple' object does not support item assignment"
     ]
    }
   ],
   "source": [
    "test_tup[0] = 1"
   ]
  },
  {
   "cell_type": "code",
   "execution_count": 101,
   "id": "a5f8682c-7624-4832-a558-781f1cb25762",
   "metadata": {},
   "outputs": [],
   "source": [
    "test_tup[1][0] = 100"
   ]
  },
  {
   "cell_type": "code",
   "execution_count": 104,
   "id": "7cd533f2-b0c0-4849-9eb9-d696fdb5cc12",
   "metadata": {},
   "outputs": [
    {
     "name": "stdout",
     "output_type": "stream",
     "text": [
      "(0, [100, 2, 10])\n"
     ]
    }
   ],
   "source": [
    "print(test_tup)"
   ]
  },
  {
   "cell_type": "code",
   "execution_count": 103,
   "id": "6bd02e77-e594-44ef-b4e0-eefe9b729ef0",
   "metadata": {},
   "outputs": [],
   "source": [
    "test_tup[1].append(10)"
   ]
  },
  {
   "cell_type": "code",
   "execution_count": null,
   "id": "e75457f4-3adc-41e7-aae8-b5e20b90be31",
   "metadata": {},
   "outputs": [],
   "source": []
  }
 ],
 "metadata": {
  "kernelspec": {
   "display_name": "Python 3 (ipykernel)",
   "language": "python",
   "name": "python3"
  },
  "language_info": {
   "codemirror_mode": {
    "name": "ipython",
    "version": 3
   },
   "file_extension": ".py",
   "mimetype": "text/x-python",
   "name": "python",
   "nbconvert_exporter": "python",
   "pygments_lexer": "ipython3",
   "version": "3.10.10"
  }
 },
 "nbformat": 4,
 "nbformat_minor": 5
}
